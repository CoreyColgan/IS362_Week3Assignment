{
 "cells": [
  {
   "cell_type": "code",
   "execution_count": 6,
   "metadata": {},
   "outputs": [],
   "source": [
    "#Corey Colgan\n",
    "# IS362 Fall 2019 Week 3 Assignment\n",
    "\n",
    "import pandas as pd\n",
    "from pprint import pprint\n",
    "\n",
    "# Create a python dictionary to hold data for running total of miles traveled from NYC to Key West (1443 miles)\n",
    "\n",
    "total_mileage = {}\n",
    "total_mileage['Day 1'] = 125\n",
    "total_mileage['Day 2'] = 250\n",
    "total_mileage['Day 3'] = 375\n",
    "total_mileage['Day 4'] = 500\n",
    "total_mileage['Day 5'] = 625\n",
    "total_mileage['Day 6'] = 750\n",
    "total_mileage['Day 7'] = 875\n",
    "total_mileage['Day 8'] = 1000\n",
    "total_mileage['Day 9'] = 1125\n",
    "total_mileage['Day 10'] = 1250\n",
    "total_mileage['Day 11'] = 1375\n",
    "total_mileage['Day 12'] = 1443\n"
   ]
  },
  {
   "cell_type": "code",
   "execution_count": 7,
   "metadata": {},
   "outputs": [
    {
     "name": "stdout",
     "output_type": "stream",
     "text": [
      "{'Day 1': 125,\n",
      " 'Day 10': 1250,\n",
      " 'Day 11': 1375,\n",
      " 'Day 12': 1443,\n",
      " 'Day 2': 250,\n",
      " 'Day 3': 375,\n",
      " 'Day 4': 500,\n",
      " 'Day 5': 625,\n",
      " 'Day 6': 750,\n",
      " 'Day 7': 875,\n",
      " 'Day 8': 1000,\n",
      " 'Day 9': 1125}\n"
     ]
    }
   ],
   "source": [
    "# Print dictionary \n",
    "pprint(total_mileage)"
   ]
  },
  {
   "cell_type": "code",
   "execution_count": 10,
   "metadata": {},
   "outputs": [
    {
     "name": "stdout",
     "output_type": "stream",
     "text": [
      "Day 1      125\n",
      "Day 2      250\n",
      "Day 3      375\n",
      "Day 4      500\n",
      "Day 5      625\n",
      "Day 6      750\n",
      "Day 7      875\n",
      "Day 8     1000\n",
      "Day 9     1125\n",
      "Day 10    1250\n",
      "Day 11    1375\n",
      "Day 12    1443\n",
      "dtype: int64\n"
     ]
    }
   ],
   "source": [
    "# Create panda series to display mileage data for each day traveled\n",
    "\n",
    "total_mileage = pd.Series(total_mileage)\n",
    "print (total_mileage)"
   ]
  },
  {
   "cell_type": "code",
   "execution_count": 12,
   "metadata": {},
   "outputs": [
    {
     "name": "stdout",
     "output_type": "stream",
     "text": [
      "Day 1: 125 miles\n",
      "Day 2: 125 miles\n",
      "Day 3: 125 miles\n",
      "Day 4: 125 miles\n",
      "Day 5: 125 miles\n",
      "Day 6: 125 miles\n",
      "Day 7: 125 miles\n",
      "Day 8: 125 miles\n",
      "Day 9: 125 miles\n",
      "Day 10: 125 miles\n",
      "Day 11: 125 miles\n",
      "Day 12: 68 miles\n"
     ]
    }
   ],
   "source": [
    "# Create a dictionary that will store data based on a calculation of the number of miles traveled each day\n",
    "\n",
    "daily_miles_traveled = {} \n",
    "current_reading = 0\n",
    "for day, updated_reading in total_mileage.items():\n",
    "    logged_miles= updated_reading - current_reading\n",
    "    daily_miles_traveled[day] = logged_miles\n",
    "    print (day + ': ' + str(logged_miles) + ' miles')\n",
    "    current_reading = updated_reading"
   ]
  },
  {
   "cell_type": "code",
   "execution_count": 13,
   "metadata": {},
   "outputs": [
    {
     "name": "stdout",
     "output_type": "stream",
     "text": [
      "1443\n",
      "Day 1     125\n",
      "Day 2     125\n",
      "Day 3     125\n",
      "Day 4     125\n",
      "Day 5     125\n",
      "Day 6     125\n",
      "Day 7     125\n",
      "Day 8     125\n",
      "Day 9     125\n",
      "Day 10    125\n",
      "Day 11    125\n",
      "Day 12     68\n",
      "dtype: int64\n"
     ]
    }
   ],
   "source": [
    "# Create panda series object to store daily miles traveled data \n",
    "daily_miles_traveled = pd.Series(daily_miles_traveled)\n",
    "print(daily_miles_traveled.sum())\n",
    "print(daily_miles_traveled)"
   ]
  },
  {
   "cell_type": "code",
   "execution_count": null,
   "metadata": {},
   "outputs": [],
   "source": []
  }
 ],
 "metadata": {
  "kernelspec": {
   "display_name": "Python 3",
   "language": "python",
   "name": "python3"
  },
  "language_info": {
   "codemirror_mode": {
    "name": "ipython",
    "version": 3
   },
   "file_extension": ".py",
   "mimetype": "text/x-python",
   "name": "python",
   "nbconvert_exporter": "python",
   "pygments_lexer": "ipython3",
   "version": "3.7.3"
  }
 },
 "nbformat": 4,
 "nbformat_minor": 2
}
